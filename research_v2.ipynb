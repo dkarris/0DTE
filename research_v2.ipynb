{
 "cells": [
  {
   "cell_type": "code",
   "execution_count": 8,
   "metadata": {},
   "outputs": [],
   "source": [
    "import pandas as pd\n",
    "import numpy as np\n",
    "from  pandasql import sqldf\n",
    "import plotly.express as px\n",
    "import datetime\n",
    "\n",
    "pd.options.display.max_rows = 50\n",
    "pd.options.display.max_columns = 100\n",
    "\n",
    "\n",
    "\n",
    "\n",
    "pysqldf = lambda q: sqldf(q, globals())"
   ]
  },
  {
   "cell_type": "code",
   "execution_count": 9,
   "metadata": {},
   "outputs": [],
   "source": [
    "def load_format_df():\n",
    "    ''' Format DF for further processing\n",
    "    '''\n",
    "    df = pd.read_csv('spy_5min.csv')\n",
    "    df = df.iloc[:,1:] # trim first extra column (redundant)\n",
    "    df['time_converted'] = pd.to_datetime(df['time_converted'])\n",
    "    # set only day session filter\n",
    "    day_session = True\n",
    "    if day_session:\n",
    "        begin_time = datetime.time(9,30,0)\n",
    "        end_time = datetime.time(16,0,0)\n",
    "        df = df[(df['time_converted'].dt.time <= end_time) & (df['time_converted'].dt.time >= begin_time )]\n",
    "    return df\n",
    "df = load_format_df()\n"
   ]
  },
  {
   "cell_type": "code",
   "execution_count": 10,
   "metadata": {},
   "outputs": [],
   "source": [
    "def cleanse_df(df):\n",
    "    '''\n",
    "    Apply some custom logic for further processing\n",
    "    '''\n",
    "    df =  pysqldf('''\n",
    "                    WITH t as (\n",
    "                        select *\n",
    "                        ,DATE(time_converted) as date\n",
    "                        ,ROW_NUMBER() OVER (PARTITION BY DATE(time_converted) ORDER BY DATETIME(time_converted) ASC) AS N_with_day\n",
    "                   from df s \n",
    "                        ),\n",
    "                        t1 as (\n",
    "                        SELECT DISTINCT date,date_open,date_close from (\n",
    "                            select date\n",
    "                            ,FIRST_VALUE(open) OVER (PARTITION BY date ORDER BY DATETIME(time_converted) ASC) as date_open\n",
    "                            ,LAST_VALUE(close) OVER (PARTITION BY date ORDER BY DATETIME(time_converted) ROWS BETWEEN CURRENT ROW AND UNBOUNDED FOLLOWING ) as date_close\n",
    "                        from t))\n",
    "                        select t.*, t1.date_open, t1.date_close from t left join t1 on t.date=t1.date\n",
    "                   ''')\n",
    "    df['time_converted'] = pd.to_datetime(df['time_converted'])\n",
    "    df['time'] = df['time_converted'].dt.time\n",
    "    df['high_pct_open_abs'] = abs((df['high']/df['date_open'])-1)*100\n",
    "    df['low_pct_open_abs'] = abs(df['low']/df['date_open'] -1)*100\n",
    "    df['weekday'] = df['time_converted'].dt.day_name()\n",
    "    temp_df = df.groupby('date')[['high_pct_open_abs','low_pct_open_abs']].max()\n",
    "    temp_df['abs_max_daily'] = temp_df[['high_pct_open_abs','low_pct_open_abs']].max(axis=1)\n",
    "    df = df.merge(temp_df, on = 'date', suffixes=('', '_max_daily'))\n",
    "    return df\n",
    "df = cleanse_df(df)\n"
   ]
  },
  {
   "cell_type": "code",
   "execution_count": 11,
   "metadata": {},
   "outputs": [],
   "source": [
    "def check_N_with_day(df):\n",
    "    '''\n",
    "        Check that all N with day are unique\n",
    "    '''\n",
    "    ### Some analysis of uniqueness of  N<>hour timing. \n",
    "    ### Found out that with N=44 we have 3 dates  07/03/23;07/03/24;11/24/24 where N=44 relates to 16:00\n",
    "    ### In other dates this is always 13:05.  Probably because of day prior to holiday. \n",
    "    ### Need to remove these dates\n",
    "\n",
    "\n",
    "\n",
    "    ## Conslusion there is one  N = 44\n",
    "\n",
    "    #temp_df = df[['N_with_day','time','date']]\n",
    "    # print(\n",
    "    #         pysqldf('''\n",
    "    #         select N_with_day, count(distinct time) as N from temp_df\n",
    "    #         group by  N_with_day\n",
    "    #         order by N desc\n",
    "    #         ''')\n",
    "    # )\n",
    "\n",
    "    # same stuff as SQL above\n",
    "    # print(temp_df.groupby(['N_with_day']).agg(N=('time','nunique')).sort_values(by='N', ascending=False).reset_index())\n",
    "\n",
    "\n",
    "    # Analysis below.\n",
    "\n",
    "    # print(temp_df[temp_df['N_with_day'] == 44].iloc[:,0:2].value_counts())\n",
    "    # comp_time = datetime.time(16,0,0)\n",
    "    # print(temp_df.query(\"N_with_day == 44 and time== @comp_time\")) \n",
    "    dates_to_delete = [\"2023-11-24\",\"2023-07-03\",\"2024-07-03\"]\n",
    "    for day in dates_to_delete:\n",
    "        df = df.drop(df[df['date'] == day].index)\n",
    "    return df\n",
    "df = check_N_with_day(df)"
   ]
  },
  {
   "cell_type": "code",
   "execution_count": 12,
   "metadata": {},
   "outputs": [],
   "source": [
    "def candle_up_or_down(open,close):\n",
    "        '''\n",
    "        return whether  candle is up (1) or down (-1) or zero (open=close)\n",
    "        '''\n",
    "        # open = df['open']\n",
    "        # close = df['close']\n",
    "        candle_class = (\n",
    "            \"-1\" if (close<open)\n",
    "            else \"1\"  if (close>open)\n",
    "            else \"0\"\n",
    "        )\n",
    "        return candle_class\n",
    "\n",
    "df['candle_type'] = np.vectorize(candle_up_or_down)(df['open'],df['close'])"
   ]
  },
  {
   "cell_type": "code",
   "execution_count": null,
   "metadata": {},
   "outputs": [],
   "source": [
    "## create y variable (last hour direction)\n",
    "def create_y(df):\n",
    "    start_time = datetime.time(15,0,0)\n",
    "    end_time = datetime.time(15,55,0)\n",
    "    df = df.query(\"time >= @start_time and time <= @end_time\")\n",
    "    df.set_index('time_converted', inplace=True)\n",
    "    df = df.resample('h').agg({\n",
    "            'open' : 'first',\n",
    "            'high' : 'max',\n",
    "            'low'  : 'min',\n",
    "            'close': 'last',\n",
    "            'number of trades' : 'sum',\n",
    "            'volume': 'sum',\n",
    "            'high_pct_open_abs_max_daily' : 'first',\n",
    "            'low_pct_open_abs_max_daily' : 'first',\n",
    "            'abs_max_daily' : 'first'\n",
    "\n",
    "    }).dropna()\n",
    "    df['y'] = np.vectorize(candle_up_or_down)(df['open'],df['close'])\n",
    "    return df\n",
    "df_y= create_y(df)"
   ]
  },
  {
   "cell_type": "code",
   "execution_count": 19,
   "metadata": {},
   "outputs": [
    {
     "ename": "ValueError",
     "evalue": "could not convert string to float: '2023-01-03'",
     "output_type": "error",
     "traceback": [
      "\u001b[0;31m---------------------------------------------------------------------------\u001b[0m",
      "\u001b[0;31mValueError\u001b[0m                                Traceback (most recent call last)",
      "Cell \u001b[0;32mIn[19], line 1\u001b[0m\n\u001b[0;32m----> 1\u001b[0m df\u001b[38;5;241m.\u001b[39mcorr()\n",
      "File \u001b[0;32m/opt/conda/envs/0dte/lib/python3.12/site-packages/pandas/core/frame.py:11049\u001b[0m, in \u001b[0;36mDataFrame.corr\u001b[0;34m(self, method, min_periods, numeric_only)\u001b[0m\n\u001b[1;32m  11047\u001b[0m cols \u001b[38;5;241m=\u001b[39m data\u001b[38;5;241m.\u001b[39mcolumns\n\u001b[1;32m  11048\u001b[0m idx \u001b[38;5;241m=\u001b[39m cols\u001b[38;5;241m.\u001b[39mcopy()\n\u001b[0;32m> 11049\u001b[0m mat \u001b[38;5;241m=\u001b[39m data\u001b[38;5;241m.\u001b[39mto_numpy(dtype\u001b[38;5;241m=\u001b[39m\u001b[38;5;28mfloat\u001b[39m, na_value\u001b[38;5;241m=\u001b[39mnp\u001b[38;5;241m.\u001b[39mnan, copy\u001b[38;5;241m=\u001b[39m\u001b[38;5;28;01mFalse\u001b[39;00m)\n\u001b[1;32m  11051\u001b[0m \u001b[38;5;28;01mif\u001b[39;00m method \u001b[38;5;241m==\u001b[39m \u001b[38;5;124m\"\u001b[39m\u001b[38;5;124mpearson\u001b[39m\u001b[38;5;124m\"\u001b[39m:\n\u001b[1;32m  11052\u001b[0m     correl \u001b[38;5;241m=\u001b[39m libalgos\u001b[38;5;241m.\u001b[39mnancorr(mat, minp\u001b[38;5;241m=\u001b[39mmin_periods)\n",
      "File \u001b[0;32m/opt/conda/envs/0dte/lib/python3.12/site-packages/pandas/core/frame.py:1993\u001b[0m, in \u001b[0;36mDataFrame.to_numpy\u001b[0;34m(self, dtype, copy, na_value)\u001b[0m\n\u001b[1;32m   1991\u001b[0m \u001b[38;5;28;01mif\u001b[39;00m dtype \u001b[38;5;129;01mis\u001b[39;00m \u001b[38;5;129;01mnot\u001b[39;00m \u001b[38;5;28;01mNone\u001b[39;00m:\n\u001b[1;32m   1992\u001b[0m     dtype \u001b[38;5;241m=\u001b[39m np\u001b[38;5;241m.\u001b[39mdtype(dtype)\n\u001b[0;32m-> 1993\u001b[0m result \u001b[38;5;241m=\u001b[39m \u001b[38;5;28mself\u001b[39m\u001b[38;5;241m.\u001b[39m_mgr\u001b[38;5;241m.\u001b[39mas_array(dtype\u001b[38;5;241m=\u001b[39mdtype, copy\u001b[38;5;241m=\u001b[39mcopy, na_value\u001b[38;5;241m=\u001b[39mna_value)\n\u001b[1;32m   1994\u001b[0m \u001b[38;5;28;01mif\u001b[39;00m result\u001b[38;5;241m.\u001b[39mdtype \u001b[38;5;129;01mis\u001b[39;00m \u001b[38;5;129;01mnot\u001b[39;00m dtype:\n\u001b[1;32m   1995\u001b[0m     result \u001b[38;5;241m=\u001b[39m np\u001b[38;5;241m.\u001b[39masarray(result, dtype\u001b[38;5;241m=\u001b[39mdtype)\n",
      "File \u001b[0;32m/opt/conda/envs/0dte/lib/python3.12/site-packages/pandas/core/internals/managers.py:1694\u001b[0m, in \u001b[0;36mBlockManager.as_array\u001b[0;34m(self, dtype, copy, na_value)\u001b[0m\n\u001b[1;32m   1692\u001b[0m         arr\u001b[38;5;241m.\u001b[39mflags\u001b[38;5;241m.\u001b[39mwriteable \u001b[38;5;241m=\u001b[39m \u001b[38;5;28;01mFalse\u001b[39;00m\n\u001b[1;32m   1693\u001b[0m \u001b[38;5;28;01melse\u001b[39;00m:\n\u001b[0;32m-> 1694\u001b[0m     arr \u001b[38;5;241m=\u001b[39m \u001b[38;5;28mself\u001b[39m\u001b[38;5;241m.\u001b[39m_interleave(dtype\u001b[38;5;241m=\u001b[39mdtype, na_value\u001b[38;5;241m=\u001b[39mna_value)\n\u001b[1;32m   1695\u001b[0m     \u001b[38;5;66;03m# The underlying data was copied within _interleave, so no need\u001b[39;00m\n\u001b[1;32m   1696\u001b[0m     \u001b[38;5;66;03m# to further copy if copy=True or setting na_value\u001b[39;00m\n\u001b[1;32m   1698\u001b[0m \u001b[38;5;28;01mif\u001b[39;00m na_value \u001b[38;5;129;01mis\u001b[39;00m lib\u001b[38;5;241m.\u001b[39mno_default:\n",
      "File \u001b[0;32m/opt/conda/envs/0dte/lib/python3.12/site-packages/pandas/core/internals/managers.py:1753\u001b[0m, in \u001b[0;36mBlockManager._interleave\u001b[0;34m(self, dtype, na_value)\u001b[0m\n\u001b[1;32m   1751\u001b[0m     \u001b[38;5;28;01melse\u001b[39;00m:\n\u001b[1;32m   1752\u001b[0m         arr \u001b[38;5;241m=\u001b[39m blk\u001b[38;5;241m.\u001b[39mget_values(dtype)\n\u001b[0;32m-> 1753\u001b[0m     result[rl\u001b[38;5;241m.\u001b[39mindexer] \u001b[38;5;241m=\u001b[39m arr\n\u001b[1;32m   1754\u001b[0m     itemmask[rl\u001b[38;5;241m.\u001b[39mindexer] \u001b[38;5;241m=\u001b[39m \u001b[38;5;241m1\u001b[39m\n\u001b[1;32m   1756\u001b[0m \u001b[38;5;28;01mif\u001b[39;00m \u001b[38;5;129;01mnot\u001b[39;00m itemmask\u001b[38;5;241m.\u001b[39mall():\n",
      "\u001b[0;31mValueError\u001b[0m: could not convert string to float: '2023-01-03'"
     ]
    }
   ],
   "source": [
    "df.corr()"
   ]
  },
  {
   "cell_type": "markdown",
   "metadata": {},
   "source": [
    "fig = px.bar(x=[\"a\", \"b\", \"c\"], y=[1, 3, 2])\n",
    "fig.show()"
   ]
  },
  {
   "cell_type": "code",
   "execution_count": null,
   "metadata": {},
   "outputs": [],
   "source": [
    "df_group = df.groupby([df['time_converted'].dt.year,df['time_converted'].dt.month])\n",
    "for (year,month), df_group  in df_group:\n",
    "    fig = px.box(df_group, x='weekday', y='abs_max_daily', color='weekday',\n",
    "                 category_orders={'weekday': ['Monday','Tuesday','Wednesday','Thursday','Friday']}\n",
    "                 ,title=f\"Year: {year}, Month: {month}\")\n",
    "    fig.update_traces(quartilemethod=\"inclusive\")  # To include all data points in the box plot\n",
    "    fig.show()\n"
   ]
  }
 ],
 "metadata": {
  "kernelspec": {
   "display_name": "0dte",
   "language": "python",
   "name": "python3"
  },
  "language_info": {
   "codemirror_mode": {
    "name": "ipython",
    "version": 3
   },
   "file_extension": ".py",
   "mimetype": "text/x-python",
   "name": "python",
   "nbconvert_exporter": "python",
   "pygments_lexer": "ipython3",
   "version": "3.12.7"
  }
 },
 "nbformat": 4,
 "nbformat_minor": 2
}
