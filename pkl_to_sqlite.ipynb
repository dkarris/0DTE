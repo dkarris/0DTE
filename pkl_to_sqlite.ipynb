{
 "cells": [
  {
   "cell_type": "code",
   "execution_count": 13,
   "metadata": {},
   "outputs": [],
   "source": [
    "import pandas as pd\n",
    "import sqlite3\n",
    "import glob\n",
    "import datetime"
   ]
  },
  {
   "cell_type": "code",
   "execution_count": 130,
   "metadata": {},
   "outputs": [],
   "source": [
    "pkl_files = glob.glob('0-2*.pkl')\n",
    "dfs = []\n",
    "for file in pkl_files:\n",
    "    df = pd.read_pickle(file)\n",
    "    df['file_source'] = file\n",
    "    dfs.append(df)\n",
    "options_df = pd.concat(dfs, ignore_index=True)\n",
    "options_df['expiry'] = pd.to_datetime(options_df['expiry'])\n"
   ]
  },
  {
   "cell_type": "code",
   "execution_count": 133,
   "metadata": {},
   "outputs": [
    {
     "name": "stdout",
     "output_type": "stream",
     "text": [
      "NA for volume_options total is 0\n",
      "NA for volume_weighted_options total is 0\n",
      "NA for open_options total is 0\n",
      "NA for close_options total is 0\n",
      "NA for high_options total is 0\n",
      "NA for low_options total is 0\n",
      "NA for timestamp_options total is 0\n",
      "NA for number of trades_options total is 0\n",
      "NA for ticker total is 0\n",
      "NA for full_name total is 0\n",
      "NA for type total is 0\n",
      "NA for strike total is 0\n",
      "NA for expiry total is 0\n",
      "NA for equity_start_price total is 0\n",
      "NA for time_converted total is 0\n",
      "NA for open_equity total is 1898\n",
      "NA for close_equity total is 1898\n",
      "NA for high_equity total is 1898\n",
      "NA for low_equity total is 1898\n",
      "NA for timestamp_equity total is 1898\n",
      "NA for number of trades_equity total is 1898\n",
      "NA for _merge total is 0\n",
      "NA for equity_pct_change total is 1898\n",
      "NA for options_pct_change total is 0\n",
      "NA for options_earliest_open total is 0\n",
      "NA for file_source total is 0\n",
      "NA for equity_pct_change_normalized total is 1898\n",
      "NA for day_classification total is 0\n",
      "NA for DTE total is 0\n",
      "NA for day_name total is 0\n",
      "NA for DTE_adjusted total is 0\n"
     ]
    }
   ],
   "source": [
    "for col in options_df.columns:\n",
    "    print (f'NA for {col} total is {options_df[col].isna().sum()}')"
   ]
  },
  {
   "cell_type": "code",
   "execution_count": 134,
   "metadata": {},
   "outputs": [],
   "source": [
    "mysqldf = lambda q: sqldf(q, globals())\n",
    "options_df['options_pct_change'] = options_df['options_pct_change'].astype(float)\n",
    "options_df['equity_pct_change_normalized'] = (options_df['equity_pct_change']-1)*100\n",
    "\n",
    "# day classification for ranges. below range boundaries are in absolute pct. Ex: 1 - 1%\n",
    "very_high_range = 2\n",
    "high_range = 1\n",
    "average_high_range = 0.8\n",
    "average = 0.5\n",
    "\n",
    "options_df['day_classification'] = None\n",
    "for day in options_df['time_converted'].dt.date.unique():\n",
    "    day_mask = options_df['time_converted'].dt.date == day\n",
    "    #find the maximum abs pct change\n",
    "    max_pct_daily = max(options_df.loc[day_mask,'equity_pct_change_normalized'].max(),\n",
    "                        abs(options_df.loc[day_mask,'equity_pct_change_normalized'].min()))\n",
    "    if max_pct_daily > very_high_range:\n",
    "        options_df.loc[day_mask,'day_classification'] = 'very_high'\n",
    "    elif max_pct_daily > high_range:\n",
    "        options_df.loc[day_mask,'day_classification'] = 'high'\n",
    "    elif max_pct_daily > average_high_range:\n",
    "        options_df.loc[day_mask,'day_classification'] = 'average_high'\n",
    "    elif max_pct_daily > average:\n",
    "         options_df.loc[day_mask,'day_classification'] = 'average'\n",
    "    else:\n",
    "         options_df.loc[day_mask,'day_classification'] = 'very_low'\n",
    "\n",
    "#calculate DTE and convert to days resulting timedelta object\n",
    "options_df['DTE'] = (pd.to_datetime(options_df['expiry']) \n",
    "                     + pd.to_timedelta('16:00:00') \n",
    "                     - pd.to_datetime(options_df['time_converted'])).dt.days\n",
    "\n",
    "# also add day of week for potential future analysis\n",
    "options_df['day_name'] = options_df['time_converted'].dt.day_name()\n",
    "\n",
    "\n",
    "# because of sat/sunday - we have now 3 and 4 DTE\n",
    "# for now create new column DTE_adjusted where DTE  3 is DTE 1 (since Mon to Friday)\n",
    "# and DTE 4 becomes DTE 2 (Thu=>Mon/Fri=>Tue)\n",
    "# small UDF for it:\n",
    "def _dte_adjusted_func(DTE):\n",
    "    if DTE == 3: return 1\n",
    "    elif DTE == 4: return 2\n",
    "    else: return DTE\n",
    "options_df['DTE_adjusted'] = options_df['DTE'].apply(_dte_adjusted_func)"
   ]
  },
  {
   "cell_type": "code",
   "execution_count": 136,
   "metadata": {},
   "outputs": [
    {
     "name": "stdout",
     "output_type": "stream",
     "text": [
      "[datetime.time(14, 0) datetime.time(14, 15) datetime.time(14, 30)\n",
      " datetime.time(15, 15) datetime.time(15, 45) datetime.time(12, 30)\n",
      " datetime.time(12, 45) datetime.time(13, 0) datetime.time(13, 15)\n",
      " datetime.time(13, 45) datetime.time(15, 30) datetime.time(14, 45)\n",
      " datetime.time(13, 30) datetime.time(15, 0)]\n",
      "[436 437 438 439 440 441 442 443 444 445 446 447 448 449 450 451 452 453\n",
      " 454 455 456 457 458 459 460 461 462 463]\n"
     ]
    },
    {
     "data": {
      "text/plain": [
       "(718715, 31)"
      ]
     },
     "execution_count": 136,
     "metadata": {},
     "output_type": "execute_result"
    }
   ],
   "source": [
    "#print(df_global[df_global['open_equity'].isna()]['file_source'].unique())\n",
    "\n",
    "\n",
    "# \n",
    "print(options_df.query('file_source == \"0-2DTE_spy_options_01June23-30Aug23.pkl\"  & low_equity.isna()')['time_converted'].dt.time.unique())\n",
    "print(options_df.query('file_source == \"0-2DTE_spy_options_01June23-30Aug23.pkl\"  & low_equity.isna()')['strike'].unique())\n",
    "\n",
    "options_df.shape"
   ]
  },
  {
   "cell_type": "code",
   "execution_count": 126,
   "metadata": {},
   "outputs": [
    {
     "data": {
      "text/html": [
       "<div>\n",
       "<style scoped>\n",
       "    .dataframe tbody tr th:only-of-type {\n",
       "        vertical-align: middle;\n",
       "    }\n",
       "\n",
       "    .dataframe tbody tr th {\n",
       "        vertical-align: top;\n",
       "    }\n",
       "\n",
       "    .dataframe thead th {\n",
       "        text-align: right;\n",
       "    }\n",
       "</style>\n",
       "<table border=\"1\" class=\"dataframe\">\n",
       "  <thead>\n",
       "    <tr style=\"text-align: right;\">\n",
       "      <th></th>\n",
       "      <th>volume_options</th>\n",
       "      <th>volume_weighted_options</th>\n",
       "      <th>open_options</th>\n",
       "      <th>close_options</th>\n",
       "      <th>high_options</th>\n",
       "      <th>low_options</th>\n",
       "      <th>timestamp_options</th>\n",
       "      <th>number of trades_options</th>\n",
       "      <th>ticker</th>\n",
       "      <th>full_name</th>\n",
       "      <th>...</th>\n",
       "      <th>_merge</th>\n",
       "      <th>equity_pct_change</th>\n",
       "      <th>options_pct_change</th>\n",
       "      <th>options_earliest_open</th>\n",
       "      <th>equity_pct_change_normalized</th>\n",
       "      <th>day_classification</th>\n",
       "      <th>file_source</th>\n",
       "      <th>DTE</th>\n",
       "      <th>day_name</th>\n",
       "      <th>DTE_adjusted</th>\n",
       "    </tr>\n",
       "  </thead>\n",
       "  <tbody>\n",
       "    <tr>\n",
       "      <th>450212</th>\n",
       "      <td>104</td>\n",
       "      <td>0.0176</td>\n",
       "      <td>0.01</td>\n",
       "      <td>0.01</td>\n",
       "      <td>0.02</td>\n",
       "      <td>0.01</td>\n",
       "      <td>1693403100000</td>\n",
       "      <td>13</td>\n",
       "      <td>SPY</td>\n",
       "      <td>O:SPY230830P00436000</td>\n",
       "      <td>...</td>\n",
       "      <td>both</td>\n",
       "      <td>1.0</td>\n",
       "      <td>1.0</td>\n",
       "      <td>0.01</td>\n",
       "      <td>0.0</td>\n",
       "      <td>very_low</td>\n",
       "      <td>0-2DTE_spy_options_01June23-30Aug23.pkl</td>\n",
       "      <td>0</td>\n",
       "      <td>Wednesday</td>\n",
       "      <td>0</td>\n",
       "    </tr>\n",
       "    <tr>\n",
       "      <th>450230</th>\n",
       "      <td>3</td>\n",
       "      <td>14.0100</td>\n",
       "      <td>14.00</td>\n",
       "      <td>14.03</td>\n",
       "      <td>14.03</td>\n",
       "      <td>14.00</td>\n",
       "      <td>1693403100000</td>\n",
       "      <td>2</td>\n",
       "      <td>SPY</td>\n",
       "      <td>O:SPY230830C00437000</td>\n",
       "      <td>...</td>\n",
       "      <td>both</td>\n",
       "      <td>1.0</td>\n",
       "      <td>1.0</td>\n",
       "      <td>14.0</td>\n",
       "      <td>0.0</td>\n",
       "      <td>very_low</td>\n",
       "      <td>0-2DTE_spy_options_01June23-30Aug23.pkl</td>\n",
       "      <td>0</td>\n",
       "      <td>Wednesday</td>\n",
       "      <td>0</td>\n",
       "    </tr>\n",
       "    <tr>\n",
       "      <th>450239</th>\n",
       "      <td>3</td>\n",
       "      <td>0.0133</td>\n",
       "      <td>0.01</td>\n",
       "      <td>0.02</td>\n",
       "      <td>0.02</td>\n",
       "      <td>0.01</td>\n",
       "      <td>1693403100000</td>\n",
       "      <td>3</td>\n",
       "      <td>SPY</td>\n",
       "      <td>O:SPY230830P00437000</td>\n",
       "      <td>...</td>\n",
       "      <td>both</td>\n",
       "      <td>1.0</td>\n",
       "      <td>1.0</td>\n",
       "      <td>0.01</td>\n",
       "      <td>0.0</td>\n",
       "      <td>very_low</td>\n",
       "      <td>0-2DTE_spy_options_01June23-30Aug23.pkl</td>\n",
       "      <td>0</td>\n",
       "      <td>Wednesday</td>\n",
       "      <td>0</td>\n",
       "    </tr>\n",
       "  </tbody>\n",
       "</table>\n",
       "<p>3 rows × 31 columns</p>\n",
       "</div>"
      ],
      "text/plain": [
       "        volume_options  volume_weighted_options  open_options  close_options  \\\n",
       "450212             104                   0.0176          0.01           0.01   \n",
       "450230               3                  14.0100         14.00          14.03   \n",
       "450239               3                   0.0133          0.01           0.02   \n",
       "\n",
       "        high_options  low_options  timestamp_options  \\\n",
       "450212          0.02         0.01      1693403100000   \n",
       "450230         14.03        14.00      1693403100000   \n",
       "450239          0.02         0.01      1693403100000   \n",
       "\n",
       "        number of trades_options ticker             full_name  ... _merge  \\\n",
       "450212                        13    SPY  O:SPY230830P00436000  ...   both   \n",
       "450230                         2    SPY  O:SPY230830C00437000  ...   both   \n",
       "450239                         3    SPY  O:SPY230830P00437000  ...   both   \n",
       "\n",
       "        equity_pct_change options_pct_change  options_earliest_open  \\\n",
       "450212                1.0                1.0                   0.01   \n",
       "450230                1.0                1.0                   14.0   \n",
       "450239                1.0                1.0                   0.01   \n",
       "\n",
       "       equity_pct_change_normalized  day_classification  \\\n",
       "450212                          0.0            very_low   \n",
       "450230                          0.0            very_low   \n",
       "450239                          0.0            very_low   \n",
       "\n",
       "                                    file_source  DTE   day_name  DTE_adjusted  \n",
       "450212  0-2DTE_spy_options_01June23-30Aug23.pkl    0  Wednesday             0  \n",
       "450230  0-2DTE_spy_options_01June23-30Aug23.pkl    0  Wednesday             0  \n",
       "450239  0-2DTE_spy_options_01June23-30Aug23.pkl    0  Wednesday             0  \n",
       "\n",
       "[3 rows x 31 columns]"
      ]
     },
     "execution_count": 126,
     "metadata": {},
     "output_type": "execute_result"
    }
   ],
   "source": [
    "#misc checks\n",
    "_dt = datetime.datetime(2023,8,30,9,45)\n",
    "options_df[options_df['time_converted'] == _dt].head(3)"
   ]
  },
  {
   "cell_type": "code",
   "execution_count": 135,
   "metadata": {},
   "outputs": [],
   "source": [
    "conn = sqlite3.connect('optionsQuotes1.db')\n",
    "c = conn.cursor()\n",
    "options_df.to_sql(name = 'data', con = conn, if_exists='replace')\n",
    "conn.commit()"
   ]
  },
  {
   "cell_type": "code",
   "execution_count": 137,
   "metadata": {},
   "outputs": [],
   "source": [
    "options_df.to_parquet('optionsDB.parquet')"
   ]
  },
  {
   "cell_type": "code",
   "execution_count": 141,
   "metadata": {},
   "outputs": [
    {
     "data": {
      "text/plain": [
       "datetime.date(2023, 1, 3)"
      ]
     },
     "execution_count": 141,
     "metadata": {},
     "output_type": "execute_result"
    }
   ],
   "source": [
    "(options_df['time_converted'].dt.date)"
   ]
  },
  {
   "cell_type": "code",
   "execution_count": null,
   "metadata": {},
   "outputs": [],
   "source": []
  }
 ],
 "metadata": {
  "kernelspec": {
   "display_name": "job_automation",
   "language": "python",
   "name": "python3"
  },
  "language_info": {
   "codemirror_mode": {
    "name": "ipython",
    "version": 3
   },
   "file_extension": ".py",
   "mimetype": "text/x-python",
   "name": "python",
   "nbconvert_exporter": "python",
   "pygments_lexer": "ipython3",
   "version": "3.11.5"
  }
 },
 "nbformat": 4,
 "nbformat_minor": 2
}
